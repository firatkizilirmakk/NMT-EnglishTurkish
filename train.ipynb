{
 "cells": [
  {
   "cell_type": "code",
   "execution_count": 18,
   "id": "f235ed6c",
   "metadata": {},
   "outputs": [],
   "source": [
    "import os\n",
    "import torch\n",
    "import torch.nn as nn\n",
    "import torch.optim as optim\n",
    "\n",
    "from torchtext.legacy.data import Field\n",
    "from torch.nn.utils.rnn import pad_sequence\n",
    "from torch.utils.data import DataLoader\n",
    "\n",
    "import nltk\n",
    "import numpy as np\n",
    "import pandas as pd\n",
    "from tqdm import tqdm\n",
    "\n",
    "import models"
   ]
  },
  {
   "cell_type": "code",
   "execution_count": 2,
   "id": "5afd8296",
   "metadata": {},
   "outputs": [],
   "source": [
    "device = torch.device('cuda' if torch.cuda.is_available() else 'cpu')"
   ]
  },
  {
   "cell_type": "code",
   "execution_count": 3,
   "id": "16d80c01",
   "metadata": {},
   "outputs": [],
   "source": [
    "def save_checkpoint(model, optimizer, loss, epoch, path):\n",
    "    checkpoint = {\n",
    "        \"epoch\" : epoch,\n",
    "        \"loss\" : loss,\n",
    "        \"model_state_dict\" : model.state_dict(),\n",
    "        \"optimizer_state_dict\" : optimizer.state_dict(),\n",
    "    }\n",
    "\n",
    "    torch.save(checkpoint, path)\n",
    "\n",
    "def load_checkpoint(model, path):\n",
    "    checkpoint = torch.load(path, map_location = device)\n",
    "\n",
    "    model.load_state_dict(checkpoint[\"model_state_dict\"])\n",
    "    model = model.to(device)\n",
    "\n",
    "    epoch = checkpoint[\"epoch\"]\n",
    "    loss = checkpoint[\"loss\"]\n",
    "\n",
    "    return epoch, loss"
   ]
  },
  {
   "cell_type": "markdown",
   "id": "f24fc819",
   "metadata": {},
   "source": [
    "## Train Definitions"
   ]
  },
  {
   "cell_type": "code",
   "execution_count": 4,
   "id": "91ae5090",
   "metadata": {},
   "outputs": [],
   "source": [
    "MAX_EPOCH  = 10\n",
    "BATCH_SIZE = 2\n",
    "INITIAL_LR = 1e-3\n",
    "\n",
    "CLIP = 1 # ??"
   ]
  },
  {
   "cell_type": "markdown",
   "id": "ae7e681c",
   "metadata": {},
   "source": [
    "## Data Definitions"
   ]
  },
  {
   "cell_type": "code",
   "execution_count": 21,
   "id": "49d5d4d2",
   "metadata": {},
   "outputs": [],
   "source": [
    "DATAFRAME_PATH = './dataframes'"
   ]
  },
  {
   "cell_type": "code",
   "execution_count": 5,
   "id": "c09d8173",
   "metadata": {},
   "outputs": [],
   "source": [
    "def en_tokenizer(text: str) -> list:\n",
    "    return nltk.word_tokenize(text, language = 'english',)\n",
    "\n",
    "def tr_tokenizer(text: str) -> list:\n",
    "    return text.split()"
   ]
  },
  {
   "cell_type": "code",
   "execution_count": 22,
   "id": "4f8ef958",
   "metadata": {},
   "outputs": [],
   "source": [
    "df = pd.read_csv(os.path.join(DATAFRAME_PATH, 'wmt16.csv'))\n",
    "\n",
    "train_df = df[df.split == 'train']\n",
    "valid_df = df[df.split == 'validation']\n",
    "valid_df = valid_df.reset_index(drop = True)"
   ]
  },
  {
   "cell_type": "markdown",
   "id": "86dc5a24",
   "metadata": {},
   "source": [
    "### Build Vocabulary"
   ]
  },
  {
   "cell_type": "code",
   "execution_count": 7,
   "id": "d6c2383a",
   "metadata": {},
   "outputs": [],
   "source": [
    "en_field = Field(tokenize = en_tokenizer, init_token='<sos>', eos_token='<eos>', lower = False)\n",
    "tr_field  = Field(tokenize = tr_tokenizer, init_token='<sos>', eos_token='<eos>', lower = False)"
   ]
  },
  {
   "cell_type": "code",
   "execution_count": 8,
   "id": "3347407a",
   "metadata": {},
   "outputs": [],
   "source": [
    "en_train_preprocessed_text = train_df['en'].apply(lambda x: en_field.preprocess(x))\n",
    "tr_train_preprocessed_text = train_df['tr'].apply(lambda x: tr_field.preprocess(x))\n",
    "\n",
    "en_field.build_vocab(en_train_preprocessed_text, min_freq = 2)\n",
    "tr_field.build_vocab(tr_train_preprocessed_text, min_freq = 2)\n",
    "\n",
    "en_vocab = en_field.vocab\n",
    "tr_vocab = tr_field.vocab"
   ]
  },
  {
   "cell_type": "code",
   "execution_count": 9,
   "id": "d7227119",
   "metadata": {},
   "outputs": [],
   "source": [
    "# define tags\n",
    "# only taking values from tr since they are equal in en_vocab as well\n",
    "PAD_IDX = tr_vocab['<pad>']\n",
    "SOS_IDX = tr_vocab['<sos']\n",
    "EOS_IDX = tr_vocab['<eos>>']"
   ]
  },
  {
   "cell_type": "code",
   "execution_count": 10,
   "id": "f13df77d",
   "metadata": {},
   "outputs": [],
   "source": [
    "def get_corpora_dataset(en_text: str, tr_text: str, en_vocab, tr_vocab):\n",
    "    data = []\n",
    "\n",
    "    for i in range(len(en_text)):\n",
    "        en_tensor = torch.tensor([en_vocab[token] for token in en_text[i]], dtype = torch.long)\n",
    "        tr_tensor = torch.tensor([tr_vocab[token] for token in tr_text[i]], dtype = torch.long)\n",
    "        data.append((en_tensor, tr_tensor))\n",
    "\n",
    "    return data"
   ]
  },
  {
   "cell_type": "code",
   "execution_count": 11,
   "id": "36b38fcb",
   "metadata": {},
   "outputs": [],
   "source": [
    "def generate_batch(data_batch):\n",
    "    en_batch, tr_batch = [], []\n",
    "\n",
    "    for (en_item, tr_item) in data_batch:\n",
    "        en_batch.append(torch.cat([torch.tensor([SOS_IDX]), en_item, torch.tensor([EOS_IDX])], dim=0))\n",
    "        tr_batch.append(torch.cat([torch.tensor([SOS_IDX]), tr_item, torch.tensor([EOS_IDX])], dim=0))\n",
    "\n",
    "    en_batch = pad_sequence(en_batch, padding_value=PAD_IDX)\n",
    "    tr_batch = pad_sequence(tr_batch, padding_value=PAD_IDX)\n",
    "    return en_batch, tr_batch"
   ]
  },
  {
   "cell_type": "code",
   "execution_count": 12,
   "id": "0591a9a8",
   "metadata": {},
   "outputs": [],
   "source": [
    "en_valid_preprocessed_text = valid_df['en'].apply(lambda x: en_field.preprocess(x))\n",
    "tr_valid_preprocessed_text = valid_df['tr'].apply(lambda x: tr_field.preprocess(x))\n",
    "\n",
    "train_dataset = get_corpora_dataset(en_train_preprocessed_text, tr_train_preprocessed_text, en_vocab, tr_vocab)\n",
    "valid_dataset = get_corpora_dataset(en_valid_preprocessed_text, tr_valid_preprocessed_text, en_vocab, tr_vocab)"
   ]
  },
  {
   "cell_type": "code",
   "execution_count": 13,
   "id": "53f1e727",
   "metadata": {},
   "outputs": [],
   "source": [
    "train_loader = DataLoader(train_dataset, batch_size=BATCH_SIZE, shuffle=True, collate_fn=generate_batch)\n",
    "valid_loader = DataLoader(valid_dataset, batch_size=BATCH_SIZE, shuffle=True, collate_fn=generate_batch)"
   ]
  },
  {
   "cell_type": "markdown",
   "id": "805a3610",
   "metadata": {},
   "source": [
    "## Model Definitions"
   ]
  },
  {
   "cell_type": "code",
   "execution_count": 14,
   "id": "4b35a014",
   "metadata": {},
   "outputs": [],
   "source": [
    "INPUT_DIM = len(en_vocab)\n",
    "OUTPUT_DIM = len(tr_vocab)\n",
    "\n",
    "# model hyperparams\n",
    "ENC_EMB_DIM = 256\n",
    "DEC_EMB_DIM = 256\n",
    "HID_DIM = 512\n",
    "N_LAYERS = 2\n",
    "\n",
    "ENC_DROPOUT = 0.5\n",
    "DEC_DROPOUT = 0.5\n",
    "\n",
    "enc = models.Encoder(INPUT_DIM, ENC_EMB_DIM, HID_DIM, N_LAYERS, ENC_DROPOUT)\n",
    "dec = models.Decoder(OUTPUT_DIM, DEC_EMB_DIM, HID_DIM, N_LAYERS, DEC_DROPOUT)\n",
    "\n",
    "model = models.Seq2Seq(enc, dec, device).to(device)"
   ]
  },
  {
   "cell_type": "code",
   "execution_count": 15,
   "id": "9cc6cb45",
   "metadata": {},
   "outputs": [],
   "source": [
    "# loss function\n",
    "TRG_PAD_IDX = tr_vocab.stoi[tr_field.pad_token]\n",
    "loss_fn = nn.CrossEntropyLoss(ignore_index = TRG_PAD_IDX)\n",
    "\n",
    "optimizer = optim.Adam(model.parameters(), lr=INITIAL_LR)\n",
    "scheduler = optim.lr_scheduler.ReduceLROnPlateau(optimizer, 'max', patience=2)  # goal: maximize Dice score"
   ]
  },
  {
   "cell_type": "markdown",
   "id": "dee62c1c",
   "metadata": {},
   "source": [
    "### Train & Eval Loop"
   ]
  },
  {
   "cell_type": "code",
   "execution_count": 19,
   "id": "ac31f0a2",
   "metadata": {},
   "outputs": [
    {
     "name": "stderr",
     "output_type": "stream",
     "text": []
    },
    {
     "name": "stdout",
     "output_type": "stream",
     "text": [
      "Epoch: 1, TrainLoss: 11.68, ValidLoss : 3.89, lr: 0.001\n",
      "Saving  model_checkpoints/model_0.pkl\n"
     ]
    }
   ],
   "source": [
    "best_valid_loss = 999999\n",
    "plateau_counter = 0\n",
    "\n",
    "for epoch in range(MAX_EPOCH):\n",
    "    train_looper = tqdm(enumerate(train_loader), total=len(train_loader), leave = False, position = 0)\n",
    "    train_looper.set_description(\"Epoch [{:003}]\".format(epoch + 1))\n",
    "\n",
    "    epoch_train_loss = 0\n",
    "    epoch_valid_loss = 0\n",
    "\n",
    "    #train\n",
    "    model.train()\n",
    "    for i, (src, trg) in train_looper:\n",
    "\n",
    "        src = src.to(device)\n",
    "        trg = trg.to(device)\n",
    "\n",
    "        optimizer.zero_grad()\n",
    "\n",
    "        output = model(src, trg)\n",
    "        #trg = [trg len, batch size]\n",
    "        #output = [trg len, batch size, output dim]\n",
    "\n",
    "        output_dim = output.shape[-1]\n",
    "        output = output[1:].view(-1, output_dim)\n",
    "        trg = trg[1:].view(-1)\n",
    "\n",
    "        #trg = [(trg len - 1) * batch size]\n",
    "        #output = [(trg len - 1) * batch size, output dim]\n",
    "\n",
    "        loss = loss_fn(output, trg)\n",
    "        loss.backward()\n",
    "\n",
    "        torch.nn.utils.clip_grad_norm_(model.parameters(), CLIP)\n",
    "\n",
    "        optimizer.step()\n",
    "        epoch_train_loss += loss.item()\n",
    "        train_looper.set_postfix(loss=loss.detach().item())\n",
    "\n",
    "    #evaluate\n",
    "    model.eval()\n",
    "    with torch.no_grad():\n",
    "        for _, (src, trg) in enumerate(valid_loader):\n",
    "            src = src.to(device)\n",
    "            trg = trg.to(device)\n",
    "\n",
    "            output = model(src, trg, 0) #turn off teacher forcing\n",
    "\n",
    "            output = output[1:].view(-1, output.shape[-1])\n",
    "            trg = trg[1:].view(-1)\n",
    "\n",
    "            loss = loss_fn(output, trg)\n",
    "            epoch_valid_loss += loss.item()\n",
    "\n",
    "    epoch_train_loss = epoch_train_loss / len(train_loader)\n",
    "    epoch_valid_loss = epoch_valid_loss / len(valid_loader)\n",
    "\n",
    "    scheduler.step(epoch_valid_loss)\n",
    "\n",
    "    print(\"Epoch: {}, TrainLoss: {:.2f}, ValidLoss : {:.2f}, lr: {}\".format(epoch + 1, epoch_train_loss, epoch_valid_loss,  optimizer.param_groups[0]['lr']))    \n",
    "\n",
    "    # checkpoint\n",
    "    if epoch_valid_loss < best_valid_loss:\n",
    "        plateau_counter = 0\n",
    "        best_valid_loss = epoch_valid_loss\n",
    "        checkpoint_path = 'model_checkpoints/' + \"model_\" + str(epoch) + \".pkl\"\n",
    "        print(\"Saving \", checkpoint_path)\n",
    "        save_checkpoint(model, optimizer, epoch_valid_loss, (epoch + 1), checkpoint_path)\n",
    "    else:\n",
    "        plateau_counter += 1\n",
    "        if plateau_counter > 5:\n",
    "            print(\"Early stopping...\")\n",
    "            break"
   ]
  }
 ],
 "metadata": {
  "kernelspec": {
   "display_name": "Python 3",
   "language": "python",
   "name": "python3"
  },
  "language_info": {
   "codemirror_mode": {
    "name": "ipython",
    "version": 3
   },
   "file_extension": ".py",
   "mimetype": "text/x-python",
   "name": "python",
   "nbconvert_exporter": "python",
   "pygments_lexer": "ipython3",
   "version": "3.6.9"
  }
 },
 "nbformat": 4,
 "nbformat_minor": 5
}
